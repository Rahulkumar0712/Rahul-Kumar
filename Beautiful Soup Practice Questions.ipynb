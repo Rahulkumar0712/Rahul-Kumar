{
 "cells": [
  {
   "cell_type": "code",
   "execution_count": 1,
   "id": "021f7d2b",
   "metadata": {},
   "outputs": [
    {
     "name": "stdout",
     "output_type": "stream",
     "text": [
      "Requirement already satisfied: beautifulsoup4 in c:\\users\\rahul\\anaconda3\\lib\\site-packages (4.12.2)\n",
      "Requirement already satisfied: soupsieve>1.2 in c:\\users\\rahul\\anaconda3\\lib\\site-packages (from beautifulsoup4) (2.4)\n"
     ]
    }
   ],
   "source": [
    "!pip install beautifulsoup4"
   ]
  },
  {
   "cell_type": "code",
   "execution_count": 2,
   "id": "e94e4e25",
   "metadata": {},
   "outputs": [],
   "source": [
    "import requests\n",
    "from bs4 import BeautifulSoup"
   ]
  },
  {
   "cell_type": "code",
   "execution_count": 8,
   "id": "65578b9f",
   "metadata": {},
   "outputs": [],
   "source": [
    "url = 'https://wikipedia.org'\n",
    "response = requests.get(url)\n",
    "html_content = response.text"
   ]
  },
  {
   "cell_type": "code",
   "execution_count": 11,
   "id": "19224b17",
   "metadata": {},
   "outputs": [
    {
     "name": "stdout",
     "output_type": "stream",
     "text": [
      "Main Page\n",
      "Welcome to Wikipedia\n",
      "From today's featured article\n",
      "Did you know ...\n",
      "In the news\n",
      "On this day\n",
      "From today's featured list\n",
      "Today's featured picture\n",
      "Other areas of Wikipedia\n",
      "Wikipedia's sister projects\n",
      "Wikipedia languages\n"
     ]
    }
   ],
   "source": [
    "soup = BeautifulSoup(html_content, 'html.parser')\n",
    "header_tags = soup.find_all(['h1', 'h2', 'h3', 'h4', 'h5', 'h6'])\n",
    "for tag in header_tags:\n",
    "    print(tag.text.strip())"
   ]
  },
  {
   "cell_type": "code",
   "execution_count": 4,
   "id": "65c4a9ce",
   "metadata": {},
   "outputs": [
    {
     "name": "stdout",
     "output_type": "stream",
     "text": [
      "Requirement already satisfied: beautifulsoup4 in c:\\users\\rahul\\anaconda3\\lib\\site-packages (4.12.2)\n",
      "Requirement already satisfied: soupsieve>1.2 in c:\\users\\rahul\\anaconda3\\lib\\site-packages (from beautifulsoup4) (2.4)\n"
     ]
    }
   ],
   "source": [
    "!pip install beautifulsoup4"
   ]
  },
  {
   "cell_type": "code",
   "execution_count": 13,
   "id": "4ea1ccf6",
   "metadata": {},
   "outputs": [],
   "source": [
    "import requests\n",
    "from bs4 import BeautifulSoup\n",
    "import pandas as pd"
   ]
  },
  {
   "cell_type": "code",
   "execution_count": 22,
   "id": "bdea637e",
   "metadata": {},
   "outputs": [
    {
     "name": "stdout",
     "output_type": "stream",
     "text": [
      "<html>\n",
      "<head><title>403 Forbidden</title></head>\n",
      "<body>\n",
      "<center><h1>403 Forbidden</h1></center>\n",
      "</body>\n",
      "</html>\n",
      "\n"
     ]
    }
   ],
   "source": [
    "url = 'https://www.imdb.com/search/title/?sort=user_rating,desc&groups=top_100'\n",
    "response = requests.get(url)\n",
    "soup = BeautifulSoup(response.content, 'html.parser')"
   ]
  },
  {
   "cell_type": "code",
   "execution_count": null,
   "id": "fe997969",
   "metadata": {},
   "outputs": [],
   "source": [
    "movie_names = []\n",
    "ratings = []\n",
    "years = []"
   ]
  },
  {
   "cell_type": "code",
   "execution_count": 26,
   "id": "1d6ea2bb",
   "metadata": {},
   "outputs": [
    {
     "data": {
      "text/plain": [
       "[]"
      ]
     },
     "execution_count": 26,
     "metadata": {},
     "output_type": "execute_result"
    }
   ],
   "source": [
    "movie_data = soup.findAll('div', attrs= {'class': 'lister-item mode-advance'})"
   ]
  },
  {
   "cell_type": "code",
   "execution_count": 1,
   "id": "69c32017",
   "metadata": {},
   "outputs": [
    {
     "ename": "NameError",
     "evalue": "name 'movie_data' is not defined",
     "output_type": "error",
     "traceback": [
      "\u001b[1;31m---------------------------------------------------------------------------\u001b[0m",
      "\u001b[1;31mNameError\u001b[0m                                 Traceback (most recent call last)",
      "Cell \u001b[1;32mIn[1], line 1\u001b[0m\n\u001b[1;32m----> 1\u001b[0m \u001b[38;5;28;01mfor\u001b[39;00m store \u001b[38;5;129;01min\u001b[39;00m movie_data:\n\u001b[0;32m      2\u001b[0m     name \u001b[38;5;241m=\u001b[39m store\u001b[38;5;241m.\u001b[39mh3\u001b[38;5;241m.\u001b[39ma\u001b[38;5;241m.\u001b[39mtext\n\u001b[0;32m      3\u001b[0m     movie_name\u001b[38;5;241m.\u001b[39mappend(name)\n",
      "\u001b[1;31mNameError\u001b[0m: name 'movie_data' is not defined"
     ]
    }
   ],
   "source": [
    "for store in movie_data:\n",
    "    name = store.h3.a.text\n",
    "    movie_name.append(name)"
   ]
  },
  {
   "cell_type": "code",
   "execution_count": 3,
   "id": "e1914b11",
   "metadata": {},
   "outputs": [],
   "source": [
    "import pandas as pd\n",
    "from bs4 import BeautifulSoup\n",
    "import requests"
   ]
  },
  {
   "cell_type": "code",
   "execution_count": 4,
   "id": "368122be",
   "metadata": {},
   "outputs": [],
   "source": [
    "url = \"https://presidentofindia.nic.in/former-presidents.htm\"\n",
    "response = requests.get(url)\n",
    "soup = BeautifulSoup(response.text, 'html.parser')\n",
    "table = soup.find('table', class_='table')"
   ]
  },
  {
   "cell_type": "code",
   "execution_count": 5,
   "id": "e14cc05d",
   "metadata": {},
   "outputs": [],
   "source": [
    "data = []\n",
    "if table:\n",
    "    for row in table.find_all('tr')[1:]:\n",
    "        name, term = [cell.text.strip() for cell in row.find_all('td')]\n",
    "        data.append({'Name': name, 'Term of Office': term})"
   ]
  },
  {
   "cell_type": "code",
   "execution_count": 6,
   "id": "8acb201a",
   "metadata": {},
   "outputs": [
    {
     "name": "stdout",
     "output_type": "stream",
     "text": [
      "Empty DataFrame\n",
      "Columns: []\n",
      "Index: []\n"
     ]
    }
   ],
   "source": [
    "df = pd.DataFrame(data)\n",
    "print(df)"
   ]
  },
  {
   "cell_type": "code",
   "execution_count": 7,
   "id": "287254b5",
   "metadata": {},
   "outputs": [],
   "source": [
    "import requests\n",
    "from bs4 import BeautifulSoup\n",
    "import pandas as pd"
   ]
  },
  {
   "cell_type": "code",
   "execution_count": 8,
   "id": "e278e1c4",
   "metadata": {},
   "outputs": [],
   "source": [
    "url = \"https://www.dineout.co.in\"\n",
    "response = requests.get(url)"
   ]
  },
  {
   "cell_type": "code",
   "execution_count": 9,
   "id": "5e7467ba",
   "metadata": {},
   "outputs": [],
   "source": [
    "soup = BeautifulSoup(response.content, 'html.parser')"
   ]
  },
  {
   "cell_type": "code",
   "execution_count": 10,
   "id": "06e95993",
   "metadata": {},
   "outputs": [],
   "source": [
    "restaurant_names = soup.find_all('h2', class_='restnt-name ellipsis')\n",
    "cuisines = soup.find_all('span', class_='double-line-ellipsis cuisine')\n",
    "locations = soup.find_all('div', class_='restnt-loc ellipsis')\n",
    "ratings = soup.find_all('span', class_='rating-value')\n",
    "image_urls = soup.find_all('img', class_='lazyload')"
   ]
  },
  {
   "cell_type": "code",
   "execution_count": 11,
   "id": "08c8e402",
   "metadata": {},
   "outputs": [],
   "source": [
    "restaurant_list = []\n",
    "cuisine_list = []\n",
    "location_list = []\n",
    "rating_list = []\n",
    "image_url_list = []"
   ]
  },
  {
   "cell_type": "code",
   "execution_count": 12,
   "id": "11d26c15",
   "metadata": {},
   "outputs": [],
   "source": [
    "for name in restaurant_names:\n",
    "    restaurant_list.append(name.text.strip())"
   ]
  },
  {
   "cell_type": "code",
   "execution_count": 13,
   "id": "05571e72",
   "metadata": {},
   "outputs": [],
   "source": [
    "for cuisine in cuisines:\n",
    "    cuisine_list.append(cuisine.text.strip())"
   ]
  },
  {
   "cell_type": "code",
   "execution_count": 14,
   "id": "8f0659b6",
   "metadata": {},
   "outputs": [],
   "source": [
    "for location in locations:\n",
    "    location_list.append(location.text.strip())"
   ]
  },
  {
   "cell_type": "code",
   "execution_count": 15,
   "id": "005e232c",
   "metadata": {},
   "outputs": [],
   "source": [
    "for rating in ratings:\n",
    "    rating_list.append(rating.text.strip())"
   ]
  },
  {
   "cell_type": "code",
   "execution_count": 16,
   "id": "a6d2c442",
   "metadata": {},
   "outputs": [],
   "source": [
    "for image in image_urls:\n",
    "    image_url_list.append(image['data-src'])"
   ]
  },
  {
   "cell_type": "code",
   "execution_count": 20,
   "id": "e4976b6e",
   "metadata": {},
   "outputs": [],
   "source": [
    "data = {\n",
    "    'Restaurant Name': restaurant_list,\n",
    "    'Cuisine': cuisine_list,\n",
    "    'Location': location_list,\n",
    "    'Ratings': rating_list,\n",
    "    'Image URL': image_url_list}\n"
   ]
  },
  {
   "cell_type": "code",
   "execution_count": 21,
   "id": "fec1b233",
   "metadata": {},
   "outputs": [
    {
     "name": "stdout",
     "output_type": "stream",
     "text": [
      "Empty DataFrame\n",
      "Columns: [Restaurant Name, Cuisine, Location, Ratings, Image URL]\n",
      "Index: []\n"
     ]
    }
   ],
   "source": [
    "df = pd.DataFrame(data)\n",
    "print(df)"
   ]
  },
  {
   "cell_type": "code",
   "execution_count": null,
   "id": "4b14e329",
   "metadata": {},
   "outputs": [],
   "source": []
  }
 ],
 "metadata": {
  "kernelspec": {
   "display_name": "Python 3 (ipykernel)",
   "language": "python",
   "name": "python3"
  },
  "language_info": {
   "codemirror_mode": {
    "name": "ipython",
    "version": 3
   },
   "file_extension": ".py",
   "mimetype": "text/x-python",
   "name": "python",
   "nbconvert_exporter": "python",
   "pygments_lexer": "ipython3",
   "version": "3.11.5"
  }
 },
 "nbformat": 4,
 "nbformat_minor": 5
}
